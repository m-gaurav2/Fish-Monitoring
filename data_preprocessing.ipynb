{
 "cells": [
  {
   "cell_type": "code",
   "execution_count": 1,
   "metadata": {},
   "outputs": [],
   "source": [
    "import os, json, csv, shutil\n",
    "from glob import glob\n",
    "import numpy as np"
   ]
  },
  {
   "cell_type": "code",
   "execution_count": 2,
   "metadata": {},
   "outputs": [],
   "source": [
    "path = 'data/'"
   ]
  },
  {
   "cell_type": "markdown",
   "metadata": {},
   "source": [
    "# Create train, valid and sample folder"
   ]
  },
  {
   "cell_type": "code",
   "execution_count": 3,
   "metadata": {},
   "outputs": [],
   "source": [
    "os.mkdir(path + 'train/')\n",
    "os.mkdir(path + 'valid/')\n",
    "os.mkdir(path + 'sample/')\n",
    "os.mkdir(path + 'sample/train/')\n",
    "os.mkdir(path + 'sample/valid/')"
   ]
  },
  {
   "cell_type": "code",
   "execution_count": 4,
   "metadata": {},
   "outputs": [],
   "source": [
    "os.mkdir(path + 'train/ALB/')\n",
    "os.mkdir(path + 'train/BET/')\n",
    "os.mkdir(path + 'train/DOL/')\n",
    "os.mkdir(path + 'train/LAG/')\n",
    "os.mkdir(path + 'train/NoF/')\n",
    "os.mkdir(path + 'train/OTHER/')\n",
    "os.mkdir(path + 'train/SHARK/')\n",
    "os.mkdir(path + 'train/YFT/')\n",
    "\n",
    "os.mkdir(path + 'valid/ALB/')\n",
    "os.mkdir(path + 'valid/BET/')\n",
    "os.mkdir(path + 'valid/DOL/')\n",
    "os.mkdir(path + 'valid/LAG/')\n",
    "os.mkdir(path + 'valid/NoF/')\n",
    "os.mkdir(path + 'valid/OTHER/')\n",
    "os.mkdir(path + 'valid/SHARK/')\n",
    "os.mkdir(path + 'valid/YFT/')\n",
    "\n",
    "os.mkdir(path + 'sample/train/ALB/')\n",
    "os.mkdir(path + 'sample/train/BET/')\n",
    "os.mkdir(path + 'sample/train/DOL/')\n",
    "os.mkdir(path + 'sample/train/LAG/')\n",
    "os.mkdir(path + 'sample/train/NoF/')\n",
    "os.mkdir(path + 'sample/train/OTHER/')\n",
    "os.mkdir(path + 'sample/train/SHARK/')\n",
    "os.mkdir(path + 'sample/train/YFT/')\n",
    "\n",
    "os.mkdir(path + 'sample/valid/ALB/')\n",
    "os.mkdir(path + 'sample/valid/BET/')\n",
    "os.mkdir(path + 'sample/valid/DOL/')\n",
    "os.mkdir(path + 'sample/valid/LAG/')\n",
    "os.mkdir(path + 'sample/valid/NoF/')\n",
    "os.mkdir(path + 'sample/valid/OTHER/')\n",
    "os.mkdir(path + 'sample/valid/SHARK/')\n",
    "os.mkdir(path + 'sample/valid/YFT/')"
   ]
  },
  {
   "cell_type": "markdown",
   "metadata": {},
   "source": [
    "# Move images into train, valid folders"
   ]
  },
  {
   "cell_type": "code",
   "execution_count": 5,
   "metadata": {},
   "outputs": [
    {
     "name": "stdout",
     "output_type": "stream",
     "text": [
      "1719\n"
     ]
    }
   ],
   "source": [
    "albs = glob(path + 'ALB/img*.jpg')\n",
    "shuf = np.random.permutation(albs)\n",
    "print(len(albs))\n",
    "for i in range(len(albs)):\n",
    "    shutil.move(shuf[i], path + 'train/ALB/')"
   ]
  },
  {
   "cell_type": "code",
   "execution_count": 6,
   "metadata": {},
   "outputs": [
    {
     "name": "stdout",
     "output_type": "stream",
     "text": [
      "200\n"
     ]
    }
   ],
   "source": [
    "bet = glob(path + 'BET/img*.jpg')\n",
    "shuf = np.random.permutation(bet)\n",
    "print(len(bet))\n",
    "for i in range(len(bet)):\n",
    "    shutil.move(shuf[i], path + 'train/BET/')"
   ]
  },
  {
   "cell_type": "code",
   "execution_count": 7,
   "metadata": {},
   "outputs": [
    {
     "name": "stdout",
     "output_type": "stream",
     "text": [
      "117\n"
     ]
    }
   ],
   "source": [
    "dol = glob(path + 'DOL/img*.jpg')\n",
    "shuf = np.random.permutation(dol)\n",
    "print(len(dol))\n",
    "for i in range(len(dol)):\n",
    "    shutil.move(shuf[i], path + 'train/DOL/')"
   ]
  },
  {
   "cell_type": "code",
   "execution_count": 8,
   "metadata": {},
   "outputs": [
    {
     "name": "stdout",
     "output_type": "stream",
     "text": [
      "200\n"
     ]
    }
   ],
   "source": [
    "lag = glob(path + 'LAG/img*.jpg')\n",
    "shuf = np.random.permutation(lag)\n",
    "print(len(lag))\n",
    "for i in range(len(lag)):\n",
    "    shutil.move(shuf[i], path + 'train/LAG/')"
   ]
  },
  {
   "cell_type": "code",
   "execution_count": 9,
   "metadata": {},
   "outputs": [
    {
     "name": "stdout",
     "output_type": "stream",
     "text": [
      "465\n"
     ]
    }
   ],
   "source": [
    "nof = glob(path + 'NoF/img*.jpg')\n",
    "shuf = np.random.permutation(nof)\n",
    "print(len(nof))\n",
    "for i in range(len(nof)):\n",
    "    shutil.move(shuf[i], path + 'train/NoF/')"
   ]
  },
  {
   "cell_type": "code",
   "execution_count": 10,
   "metadata": {},
   "outputs": [
    {
     "name": "stdout",
     "output_type": "stream",
     "text": [
      "299\n"
     ]
    }
   ],
   "source": [
    "other = glob(path + 'OTHER/img*.jpg')\n",
    "shuf = np.random.permutation(other)\n",
    "print(len(other))\n",
    "for i in range(len(other)):\n",
    "    shutil.move(shuf[i], path + 'train/OTHER/')"
   ]
  },
  {
   "cell_type": "code",
   "execution_count": 12,
   "metadata": {},
   "outputs": [
    {
     "name": "stdout",
     "output_type": "stream",
     "text": [
      "176\n"
     ]
    }
   ],
   "source": [
    "shark = glob(path + 'SHARK/img*.jpg')\n",
    "shuf = np.random.permutation(shark)\n",
    "print(len(shark))\n",
    "for i in range(len(shark)):\n",
    "    shutil.move(shuf[i], path + 'train/SHARK/')"
   ]
  },
  {
   "cell_type": "code",
   "execution_count": 13,
   "metadata": {},
   "outputs": [
    {
     "name": "stdout",
     "output_type": "stream",
     "text": [
      "734\n"
     ]
    }
   ],
   "source": [
    "yft = glob(path + 'YFT/img*.jpg')\n",
    "shuf = np.random.permutation(yft)\n",
    "print(len(yft))\n",
    "for i in range(len(yft)):\n",
    "    shutil.move(shuf[i], path + 'train/YFT/')"
   ]
  },
  {
   "cell_type": "code",
   "execution_count": 14,
   "metadata": {},
   "outputs": [
    {
     "name": "stdout",
     "output_type": "stream",
     "text": [
      "1719\n"
     ]
    }
   ],
   "source": [
    "ALB_valid = glob(path + 'train/ALB/*.jpg')\n",
    "shuf = np.random.permutation(ALB_valid)\n",
    "print(len(ALB_valid))\n",
    "for i in range(int(len(ALB_valid) / 10)):\n",
    "    shutil.move(shuf[i], path + 'valid/ALB/')"
   ]
  },
  {
   "cell_type": "code",
   "execution_count": 15,
   "metadata": {},
   "outputs": [
    {
     "name": "stdout",
     "output_type": "stream",
     "text": [
      "200\n"
     ]
    }
   ],
   "source": [
    "BET_valid = glob(path + 'train/BET/*.jpg')\n",
    "shuf = np.random.permutation(BET_valid)\n",
    "print(len(BET_valid))\n",
    "for i in range(int(len(BET_valid) / 10)):\n",
    "    shutil.move(shuf[i], path + 'valid/BET/')"
   ]
  },
  {
   "cell_type": "code",
   "execution_count": 16,
   "metadata": {},
   "outputs": [],
   "source": [
    "DOL_valid = glob(path + 'train/DOL/*.jpg')\n",
    "shuf = np.random.permutation(DOL_valid)\n",
    "\n",
    "for i in range(int(len(DOL_valid) / 10)):\n",
    "    shutil.move(shuf[i], path + 'valid/DOL/')"
   ]
  },
  {
   "cell_type": "code",
   "execution_count": 22,
   "metadata": {},
   "outputs": [
    {
     "name": "stdout",
     "output_type": "stream",
     "text": [
      "68\n"
     ]
    }
   ],
   "source": [
    "LAG_valid = glob(path + 'train/LAG/*.jpg')\n",
    "shuf = np.random.permutation(BET_valid)\n",
    "print(len(LAG_valid))\n",
    "for i in range(int(len(LAG_valid) / 10)):\n",
    "    shutil.move(shuf[i], path + 'valid/LAG/')"
   ]
  },
  {
   "cell_type": "code",
   "execution_count": 18,
   "metadata": {},
   "outputs": [],
   "source": [
    "NoF_valid = glob(path + 'train/NoF/*.jpg')\n",
    "shuf = np.random.permutation(NoF_valid)\n",
    "\n",
    "for i in range(int(len(NoF_valid) / 10)):\n",
    "    shutil.move(shuf[i], path + 'valid/NoF/')"
   ]
  },
  {
   "cell_type": "code",
   "execution_count": 19,
   "metadata": {},
   "outputs": [],
   "source": [
    "OTHER_valid = glob(path + 'train/OTHER/*.jpg')\n",
    "shuf = np.random.permutation(OTHER_valid)\n",
    "\n",
    "for i in range(int(len(OTHER_valid) / 10)):\n",
    "    shutil.move(shuf[i], path + 'valid/OTHER/')"
   ]
  },
  {
   "cell_type": "code",
   "execution_count": 20,
   "metadata": {},
   "outputs": [],
   "source": [
    "SHARK_valid = glob(path + 'train/SHARK/*.jpg')\n",
    "shuf = np.random.permutation(SHARK_valid)\n",
    "\n",
    "for i in range(int(len(SHARK_valid) / 10)):\n",
    "    shutil.move(shuf[i], path + 'valid/SHARK/')"
   ]
  },
  {
   "cell_type": "code",
   "execution_count": 21,
   "metadata": {},
   "outputs": [],
   "source": [
    "YFT_valid = glob(path + 'train/YFT/*.jpg')\n",
    "shuf = np.random.permutation(YFT_valid)\n",
    "\n",
    "for i in range(int(len(YFT_valid) / 10)):\n",
    "    shutil.move(shuf[i], path + 'valid/YFT/')"
   ]
  },
  {
   "cell_type": "code",
   "execution_count": 23,
   "metadata": {},
   "outputs": [
    {
     "ename": "NameError",
     "evalue": "name 'OTEHR' is not defined",
     "output_type": "error",
     "traceback": [
      "\u001b[0;31m---------------------------------------------------------------------------\u001b[0m",
      "\u001b[0;31mNameError\u001b[0m                                 Traceback (most recent call last)",
      "\u001b[0;32m<ipython-input-23-2ad129af3179>\u001b[0m in \u001b[0;36m<module>\u001b[0;34m()\u001b[0m\n\u001b[1;32m     31\u001b[0m \u001b[0mshuf\u001b[0m \u001b[0;34m=\u001b[0m \u001b[0mnp\u001b[0m\u001b[0;34m.\u001b[0m\u001b[0mrandom\u001b[0m\u001b[0;34m.\u001b[0m\u001b[0mpermutation\u001b[0m\u001b[0;34m(\u001b[0m\u001b[0mOTHER\u001b[0m\u001b[0;34m)\u001b[0m\u001b[0;34m\u001b[0m\u001b[0m\n\u001b[1;32m     32\u001b[0m \u001b[0;34m\u001b[0m\u001b[0m\n\u001b[0;32m---> 33\u001b[0;31m \u001b[0;32mfor\u001b[0m \u001b[0mi\u001b[0m \u001b[0;32min\u001b[0m \u001b[0mrange\u001b[0m\u001b[0;34m(\u001b[0m\u001b[0mint\u001b[0m\u001b[0;34m(\u001b[0m\u001b[0mlen\u001b[0m\u001b[0;34m(\u001b[0m\u001b[0mOTEHR\u001b[0m\u001b[0;34m)\u001b[0m\u001b[0;34m/\u001b[0m \u001b[0;36m5\u001b[0m\u001b[0;34m)\u001b[0m\u001b[0;34m)\u001b[0m\u001b[0;34m:\u001b[0m \u001b[0mshutil\u001b[0m\u001b[0;34m.\u001b[0m\u001b[0mcopy2\u001b[0m\u001b[0;34m(\u001b[0m\u001b[0mshuf\u001b[0m\u001b[0;34m[\u001b[0m\u001b[0mi\u001b[0m\u001b[0;34m]\u001b[0m\u001b[0;34m,\u001b[0m \u001b[0mpath\u001b[0m \u001b[0;34m+\u001b[0m \u001b[0;34m'sample/train/OTHER/'\u001b[0m\u001b[0;34m)\u001b[0m\u001b[0;34m\u001b[0m\u001b[0m\n\u001b[0m\u001b[1;32m     34\u001b[0m \u001b[0;34m\u001b[0m\u001b[0m\n\u001b[1;32m     35\u001b[0m \u001b[0;34m\u001b[0m\u001b[0m\n",
      "\u001b[0;31mNameError\u001b[0m: name 'OTEHR' is not defined"
     ]
    }
   ],
   "source": [
    "alb = glob(path + 'train/ALB/*.jpg')\n",
    "shuf = np.random.permutation(alb)\n",
    "\n",
    "for i in range(int(len(alb) / 5)):\n",
    "    shutil.copy2(shuf[i], path + 'sample/train/ALB/')\n",
    "\n",
    "    \n",
    "bet = glob(path + 'train/BET/*.jpg')\n",
    "shuf = np.random.permutation(bet)\n",
    "\n",
    "for i in range(int(len(bet) / 5)): shutil.copy2(shuf[i], path + 'sample/train/BET/')\n",
    "    \n",
    "dol = glob(path + 'train/DOL/*.jpg')\n",
    "shuf = np.random.permutation(dol)\n",
    "\n",
    "for i in range(int(len(dol) / 5)): shutil.copy2(shuf[i], path + 'sample/train/DOL/')\n",
    "    \n",
    "LAG = glob(path + 'train/LAG/*.jpg')\n",
    "shuf = np.random.permutation(LAG)\n",
    "\n",
    "for i in range(int(len(LAG) / 5)): shutil.copy2(shuf[i], path + 'sample/train/LAG/')\n",
    "    \n",
    "\n",
    "NoF = glob(path + 'train/NoF/*.jpg')\n",
    "shuf = np.random.permutation(NoF)\n",
    "\n",
    "for i in range(int(len(NoF) / 5)): shutil.copy2(shuf[i], path + 'sample/train/NoF/')\n",
    "    \n",
    "    \n"
   ]
  },
  {
   "cell_type": "code",
   "execution_count": 24,
   "metadata": {},
   "outputs": [],
   "source": [
    "OTHER = glob(path + 'train/OTHER/*.jpg')\n",
    "shuf = np.random.permutation(OTHER)\n",
    "\n",
    "for i in range(int(len(OTHER)/ 5)): shutil.copy2(shuf[i], path + 'sample/train/OTHER/')\n",
    "    \n",
    "\n",
    "SHARK = glob(path + 'train/SHARK/*.jpg')\n",
    "shuf = np.random.permutation(SHARK)\n",
    "\n",
    "for i in range(int(len(SHARK) / 5)): shutil.copy2(shuf[i], path + 'sample/train/SHARK/')\n",
    "    \n",
    "    \n",
    "YFT = glob(path + 'train/YFT/*.jpg')\n",
    "shuf = np.random.permutation(YFT)\n",
    "\n",
    "for i in range(int(len(YFT) / 5)): shutil.copy2(shuf[i], path + 'sample/train/YFT/')"
   ]
  },
  {
   "cell_type": "code",
   "execution_count": null,
   "metadata": {},
   "outputs": [],
   "source": []
  },
  {
   "cell_type": "code",
   "execution_count": 25,
   "metadata": {},
   "outputs": [],
   "source": [
    "alb = glob(path + 'valid/ALB/*.jpg')\n",
    "shuf = np.random.permutation(alb)\n",
    "\n",
    "for i in range(int(len(alb) / 5)):\n",
    "    shutil.copy2(shuf[i], path + 'sample/valid/ALB/')\n",
    "\n",
    "    \n",
    "bet = glob(path + 'valid/BET/*.jpg')\n",
    "shuf = np.random.permutation(bet)\n",
    "\n",
    "for i in range(int(len(bet) / 5)): shutil.copy2(shuf[i], path + 'sample/valid/BET/')\n",
    "    \n",
    "dol = glob(path + 'valid/DOL/*.jpg')\n",
    "shuf = np.random.permutation(dol)\n",
    "\n",
    "for i in range(int(len(dol) / 5)): shutil.copy2(shuf[i], path + 'sample/valid/DOL/')\n",
    "    \n",
    "LAG = glob(path + 'valid/LAG/*.jpg')\n",
    "shuf = np.random.permutation(LAG)\n",
    "\n",
    "for i in range(int(len(LAG) / 5)): shutil.copy2(shuf[i], path + 'sample/valid/LAG/')\n",
    "    \n",
    "\n",
    "NoF = glob(path + 'valid/NoF/*.jpg')\n",
    "shuf = np.random.permutation(NoF)\n",
    "\n",
    "for i in range(int(len(NoF) / 5)): shutil.copy2(shuf[i], path + 'sample/valid/NoF/')\n",
    "    \n",
    "OTHER = glob(path + 'valid/OTHER/*.jpg')\n",
    "shuf = np.random.permutation(OTHER)\n",
    "\n",
    "for i in range(int(len(OTHER)/ 5)): shutil.copy2(shuf[i], path + 'sample/valid/OTHER/')\n",
    "    \n",
    "\n",
    "SHARK = glob(path + 'valid/SHARK/*.jpg')\n",
    "shuf = np.random.permutation(SHARK)\n",
    "\n",
    "for i in range(int(len(SHARK) / 5)): shutil.copy2(shuf[i], path + 'sample/valid/SHARK/')\n",
    "    \n",
    "    \n",
    "YFT = glob(path + 'valid/YFT/*.jpg')\n",
    "shuf = np.random.permutation(YFT)\n",
    "\n",
    "for i in range(int(len(YFT) / 5)): shutil.copy2(shuf[i], path + 'sample/valid/YFT/')"
   ]
  },
  {
   "cell_type": "code",
   "execution_count": null,
   "metadata": {},
   "outputs": [],
   "source": []
  }
 ],
 "metadata": {
  "kernelspec": {
   "display_name": "Python 3",
   "language": "python",
   "name": "python3"
  },
  "language_info": {
   "codemirror_mode": {
    "name": "ipython",
    "version": 3
   },
   "file_extension": ".py",
   "mimetype": "text/x-python",
   "name": "python",
   "nbconvert_exporter": "python",
   "pygments_lexer": "ipython3",
   "version": "3.5.2"
  }
 },
 "nbformat": 4,
 "nbformat_minor": 2
}
